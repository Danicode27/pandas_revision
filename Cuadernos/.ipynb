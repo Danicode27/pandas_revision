{
 "cells": [
  {
   "cell_type": "code",
   "execution_count": 1,
   "metadata": {},
   "outputs": [
    {
     "name": "stdout",
     "output_type": "stream",
     "text": [
      "Collecting sodapy\n",
      "  Downloading sodapy-2.2.0-py2.py3-none-any.whl (15 kB)\n",
      "Collecting requests>=2.28.1\n",
      "  Downloading requests-2.31.0-py3-none-any.whl (62 kB)\n",
      "     ---------------------------------------- 0.0/62.6 kB ? eta -:--:--\n",
      "     ---------------------------------------  61.4/62.6 kB 3.2 MB/s eta 0:00:01\n",
      "     ---------------------------------------- 62.6/62.6 kB 1.1 MB/s eta 0:00:00\n",
      "Collecting charset-normalizer<4,>=2\n",
      "  Downloading charset_normalizer-3.1.0-cp310-cp310-win_amd64.whl (97 kB)\n",
      "     ---------------------------------------- 0.0/97.1 kB ? eta -:--:--\n",
      "     ------------------------------------- -- 92.2/97.1 kB 5.1 MB/s eta 0:00:01\n",
      "     ------------------------------------- -- 92.2/97.1 kB 5.1 MB/s eta 0:00:01\n",
      "     -------------------------------------- 97.1/97.1 kB 694.7 kB/s eta 0:00:00\n",
      "Collecting certifi>=2017.4.17\n",
      "  Downloading certifi-2023.5.7-py3-none-any.whl (156 kB)\n",
      "     ---------------------------------------- 0.0/157.0 kB ? eta -:--:--\n",
      "     ----------------------------- -------- 122.9/157.0 kB 7.5 MB/s eta 0:00:01\n",
      "     -------------------------------------  153.6/157.0 kB 4.6 MB/s eta 0:00:01\n",
      "     -------------------------------------- 157.0/157.0 kB 1.9 MB/s eta 0:00:00\n",
      "Collecting urllib3<3,>=1.21.1\n",
      "  Downloading urllib3-2.0.2-py3-none-any.whl (123 kB)\n",
      "     ---------------------------------------- 0.0/123.2 kB ? eta -:--:--\n",
      "     ---------------------------------------  122.9/123.2 kB ? eta -:--:--\n",
      "     -------------------------------------- 123.2/123.2 kB 2.4 MB/s eta 0:00:00\n",
      "Collecting idna<4,>=2.5\n",
      "  Downloading idna-3.4-py3-none-any.whl (61 kB)\n",
      "     ---------------------------------------- 0.0/61.5 kB ? eta -:--:--\n",
      "     ---------------------------------------  61.4/61.5 kB 3.2 MB/s eta 0:00:01\n",
      "     ---------------------------------------- 61.5/61.5 kB 1.1 MB/s eta 0:00:00\n",
      "Installing collected packages: urllib3, idna, charset-normalizer, certifi, requests, sodapy\n",
      "Successfully installed certifi-2023.5.7 charset-normalizer-3.1.0 idna-3.4 requests-2.31.0 sodapy-2.2.0 urllib3-2.0.2\n"
     ]
    }
   ],
   "source": [
    "## Uso de datos abiertos\n",
    "\n",
    "# Objetivos\n",
    "\n",
    "## En este cuaderno se explorará el paquete sodapy para acceder a datos abiertos del gobierno  Colombiano. Se explorará \n",
    "## la información de los contratos electrónicos del SECOP II DEL 2023\n",
    "\n",
    "\n",
    "!pip install sodapy\n"
   ]
  },
  {
   "cell_type": "code",
   "execution_count": 2,
   "metadata": {},
   "outputs": [
    {
     "name": "stdout",
     "output_type": "stream",
     "text": [
      "Collecting python-dotenv\n",
      "  Downloading python_dotenv-1.0.0-py3-none-any.whl (19 kB)\n",
      "Installing collected packages: python-dotenv\n",
      "Successfully installed python-dotenv-1.0.0\n"
     ]
    }
   ],
   "source": [
    "!pip install python-dotenv"
   ]
  },
  {
   "cell_type": "code",
   "execution_count": 12,
   "metadata": {},
   "outputs": [
    {
     "data": {
      "text/plain": [
       "True"
      ]
     },
     "execution_count": 12,
     "metadata": {},
     "output_type": "execute_result"
    }
   ],
   "source": [
    "import pandas\n",
    "import numpy as np\n",
    "import matplotlib.pyplot as plt\n",
    "import os\n",
    "from sodapy import Socrata\n",
    "\n",
    "\n",
    "#importamos env\n",
    "from dotenv import load_dotenv\n",
    "load_dotenv()\n",
    "\n",
    "\n",
    "\n",
    "# Autenticación\n",
    "\n",
    "# Client = socrata (\"www.datos.gov.co/\", app_token='9N1EkXSlqzIwSbUj60d5NLxFR')"
   ]
  },
  {
   "cell_type": "code",
   "execution_count": 14,
   "metadata": {},
   "outputs": [],
   "source": [
    "### Autenticar el Token\n",
    "\n",
    "pp_token = os.getenv(\"app_token\")\n",
    "\n",
    "\n",
    "Client = Socrata (\"www.datos.gov.co\", pp_token)"
   ]
  },
  {
   "cell_type": "code",
   "execution_count": null,
   "metadata": {},
   "outputs": [],
   "source": [
    "### Consultas\n",
    "\n",
    "### query = \"\"\"\n",
    "## Select id_contrato, nombre_entidad, nit_entidad, valor_contrato, tipo_de_contrato, modalidad_de_contratación\n",
    "\n",
    "## \"\"\"\n",
    "\n",
    "\n",
    "## Results = Client.get(\"jbjy-vk9h\")"
   ]
  }
 ],
 "metadata": {
  "kernelspec": {
   "display_name": "Python 3",
   "language": "python",
   "name": "python3"
  },
  "language_info": {
   "codemirror_mode": {
    "name": "ipython",
    "version": 3
   },
   "file_extension": ".py",
   "mimetype": "text/x-python",
   "name": "python",
   "nbconvert_exporter": "python",
   "pygments_lexer": "ipython3",
   "version": "3.10.11"
  },
  "orig_nbformat": 4
 },
 "nbformat": 4,
 "nbformat_minor": 2
}
