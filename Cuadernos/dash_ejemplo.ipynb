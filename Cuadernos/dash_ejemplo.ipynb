{
 "cells": [
  {
   "cell_type": "code",
   "execution_count": null,
   "metadata": {},
   "outputs": [],
   "source": []
  },
  {
   "cell_type": "code",
   "execution_count": 5,
   "metadata": {},
   "outputs": [
    {
     "name": "stdout",
     "output_type": "stream",
     "text": [
      "Requirement already satisfied: dash in c:\\users\\daniel trigos\\desktop\\seminario_de_programacion\\proyecto_semi\\.conda\\lib\\site-packages (2.11.1)\n",
      "Requirement already satisfied: Flask<2.3.0,>=1.0.4 in c:\\users\\daniel trigos\\desktop\\seminario_de_programacion\\proyecto_semi\\.conda\\lib\\site-packages (from dash) (2.2.5)\n",
      "Requirement already satisfied: typing-extensions>=4.1.1 in c:\\users\\daniel trigos\\desktop\\seminario_de_programacion\\proyecto_semi\\.conda\\lib\\site-packages (from dash) (4.7.0)\n",
      "Requirement already satisfied: Werkzeug<2.3.0 in c:\\users\\daniel trigos\\desktop\\seminario_de_programacion\\proyecto_semi\\.conda\\lib\\site-packages (from dash) (2.2.3)\n",
      "Requirement already satisfied: plotly>=5.0.0 in c:\\users\\daniel trigos\\desktop\\seminario_de_programacion\\proyecto_semi\\.conda\\lib\\site-packages (from dash) (5.15.0)\n",
      "Requirement already satisfied: dash-table==5.0.0 in c:\\users\\daniel trigos\\desktop\\seminario_de_programacion\\proyecto_semi\\.conda\\lib\\site-packages (from dash) (5.0.0)\n",
      "Requirement already satisfied: nest-asyncio in c:\\users\\daniel trigos\\desktop\\seminario_de_programacion\\proyecto_semi\\.conda\\lib\\site-packages (from dash) (1.5.6)\n",
      "Requirement already satisfied: ansi2html in c:\\users\\daniel trigos\\desktop\\seminario_de_programacion\\proyecto_semi\\.conda\\lib\\site-packages (from dash) (1.8.0)\n",
      "Requirement already satisfied: requests in c:\\users\\daniel trigos\\desktop\\seminario_de_programacion\\proyecto_semi\\.conda\\lib\\site-packages (from dash) (2.31.0)\n",
      "Requirement already satisfied: dash-html-components==2.0.0 in c:\\users\\daniel trigos\\desktop\\seminario_de_programacion\\proyecto_semi\\.conda\\lib\\site-packages (from dash) (2.0.0)\n",
      "Requirement already satisfied: retrying in c:\\users\\daniel trigos\\desktop\\seminario_de_programacion\\proyecto_semi\\.conda\\lib\\site-packages (from dash) (1.3.4)\n",
      "Requirement already satisfied: dash-core-components==2.0.0 in c:\\users\\daniel trigos\\desktop\\seminario_de_programacion\\proyecto_semi\\.conda\\lib\\site-packages (from dash) (2.0.0)\n",
      "Requirement already satisfied: click>=8.0 in c:\\users\\daniel trigos\\desktop\\seminario_de_programacion\\proyecto_semi\\.conda\\lib\\site-packages (from Flask<2.3.0,>=1.0.4->dash) (8.1.3)\n",
      "Requirement already satisfied: itsdangerous>=2.0 in c:\\users\\daniel trigos\\desktop\\seminario_de_programacion\\proyecto_semi\\.conda\\lib\\site-packages (from Flask<2.3.0,>=1.0.4->dash) (2.1.2)\n",
      "Requirement already satisfied: Jinja2>=3.0 in c:\\users\\daniel trigos\\desktop\\seminario_de_programacion\\proyecto_semi\\.conda\\lib\\site-packages (from Flask<2.3.0,>=1.0.4->dash) (3.1.2)\n",
      "Requirement already satisfied: packaging in c:\\users\\daniel trigos\\desktop\\seminario_de_programacion\\proyecto_semi\\.conda\\lib\\site-packages (from plotly>=5.0.0->dash) (23.1)\n",
      "Requirement already satisfied: tenacity>=6.2.0 in c:\\users\\daniel trigos\\desktop\\seminario_de_programacion\\proyecto_semi\\.conda\\lib\\site-packages (from plotly>=5.0.0->dash) (8.2.2)\n",
      "Requirement already satisfied: MarkupSafe>=2.1.1 in c:\\users\\daniel trigos\\desktop\\seminario_de_programacion\\proyecto_semi\\.conda\\lib\\site-packages (from Werkzeug<2.3.0->dash) (2.1.3)\n",
      "Requirement already satisfied: idna<4,>=2.5 in c:\\users\\daniel trigos\\desktop\\seminario_de_programacion\\proyecto_semi\\.conda\\lib\\site-packages (from requests->dash) (3.4)\n",
      "Requirement already satisfied: certifi>=2017.4.17 in c:\\users\\daniel trigos\\desktop\\seminario_de_programacion\\proyecto_semi\\.conda\\lib\\site-packages (from requests->dash) (2023.5.7)\n",
      "Requirement already satisfied: urllib3<3,>=1.21.1 in c:\\users\\daniel trigos\\desktop\\seminario_de_programacion\\proyecto_semi\\.conda\\lib\\site-packages (from requests->dash) (2.0.2)\n",
      "Requirement already satisfied: charset-normalizer<4,>=2 in c:\\users\\daniel trigos\\desktop\\seminario_de_programacion\\proyecto_semi\\.conda\\lib\\site-packages (from requests->dash) (3.1.0)\n",
      "Requirement already satisfied: six>=1.7.0 in c:\\users\\daniel trigos\\desktop\\seminario_de_programacion\\proyecto_semi\\.conda\\lib\\site-packages (from retrying->dash) (1.16.0)\n",
      "Requirement already satisfied: colorama in c:\\users\\daniel trigos\\desktop\\seminario_de_programacion\\proyecto_semi\\.conda\\lib\\site-packages (from click>=8.0->Flask<2.3.0,>=1.0.4->dash) (0.4.6)\n"
     ]
    }
   ],
   "source": [
    "#!pip install dash\n",
    "\n"
   ]
  },
  {
   "cell_type": "code",
   "execution_count": 6,
   "metadata": {},
   "outputs": [],
   "source": [
    "from dash import Dash, html"
   ]
  },
  {
   "cell_type": "code",
   "execution_count": null,
   "metadata": {},
   "outputs": [],
   "source": [
    "app = Dash(__name__)\n",
    "\n",
    "app.layout = html.Div([\n",
    "    html.Div(children='Hola Mundo',style={'font-size'})\n",
    "])\n",
    "\n",
    "if __name__ == '__main__':\n",
    "    app.run(debug=True)"
   ]
  },
  {
   "cell_type": "code",
   "execution_count": 8,
   "metadata": {},
   "outputs": [],
   "source": [
    "# Import packages\n",
    "from dash import Dash, html, dash_table\n",
    "import pandas as pd\n"
   ]
  }
 ],
 "metadata": {
  "kernelspec": {
   "display_name": "Python 3",
   "language": "python",
   "name": "python3"
  },
  "language_info": {
   "codemirror_mode": {
    "name": "ipython",
    "version": 3
   },
   "file_extension": ".py",
   "mimetype": "text/x-python",
   "name": "python",
   "nbconvert_exporter": "python",
   "pygments_lexer": "ipython3",
   "version": "3.10.11"
  },
  "orig_nbformat": 4
 },
 "nbformat": 4,
 "nbformat_minor": 2
}
